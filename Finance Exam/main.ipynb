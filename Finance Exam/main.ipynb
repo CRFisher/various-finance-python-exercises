{
 "cells": [
  {
   "cell_type": "code",
   "execution_count": 64,
   "metadata": {},
   "outputs": [],
   "source": [
    "import numpy as np\n",
    "import pandas as pd\n",
    "import matplotlib.pyplot as plt\n",
    "import seaborn as sns\n",
    "import plotly.express as px\n",
    "\n",
    "from statsmodels.tsa.stattools import adfuller\n",
    "import statsmodels.api as sm"
   ]
  },
  {
   "cell_type": "code",
   "execution_count": 2,
   "metadata": {},
   "outputs": [],
   "source": [
    "df = pd.read_csv('Data/Finance_Exam_Data.csv')\n",
    "df['Date'] = pd.to_datetime(df['Date'])\n"
   ]
  },
  {
   "cell_type": "code",
   "execution_count": 3,
   "metadata": {},
   "outputs": [],
   "source": [
    "df['Risk- Free-Rate '] = df['Risk- Free-Rate '].fillna(0)"
   ]
  },
  {
   "cell_type": "code",
   "execution_count": 4,
   "metadata": {},
   "outputs": [
    {
     "data": {
      "text/html": [
       "<div>\n",
       "<style scoped>\n",
       "    .dataframe tbody tr th:only-of-type {\n",
       "        vertical-align: middle;\n",
       "    }\n",
       "\n",
       "    .dataframe tbody tr th {\n",
       "        vertical-align: top;\n",
       "    }\n",
       "\n",
       "    .dataframe thead th {\n",
       "        text-align: right;\n",
       "    }\n",
       "</style>\n",
       "<table border=\"1\" class=\"dataframe\">\n",
       "  <thead>\n",
       "    <tr style=\"text-align: right;\">\n",
       "      <th></th>\n",
       "      <th>Date</th>\n",
       "      <th>Vodacom</th>\n",
       "      <th>Anglo American</th>\n",
       "      <th>KUMBA</th>\n",
       "      <th>ABSA</th>\n",
       "      <th>Woolworths</th>\n",
       "      <th>ALSE (benchmark)</th>\n",
       "      <th>Risk- Free-Rate</th>\n",
       "    </tr>\n",
       "  </thead>\n",
       "  <tbody>\n",
       "    <tr>\n",
       "      <th>0</th>\n",
       "      <td>2007-01-03</td>\n",
       "      <td>28.797146</td>\n",
       "      <td>2805.500000</td>\n",
       "      <td>11899.0</td>\n",
       "      <td>12700.0</td>\n",
       "      <td>23.501499</td>\n",
       "      <td>4.817180</td>\n",
       "      <td>0.185</td>\n",
       "    </tr>\n",
       "    <tr>\n",
       "      <th>1</th>\n",
       "      <td>2007-01-04</td>\n",
       "      <td>28.786953</td>\n",
       "      <td>2701.100098</td>\n",
       "      <td>11399.0</td>\n",
       "      <td>12600.0</td>\n",
       "      <td>23.214399</td>\n",
       "      <td>4.715587</td>\n",
       "      <td>0.190</td>\n",
       "    </tr>\n",
       "    <tr>\n",
       "      <th>2</th>\n",
       "      <td>2007-01-05</td>\n",
       "      <td>29.510704</td>\n",
       "      <td>2637.360107</td>\n",
       "      <td>11300.0</td>\n",
       "      <td>12286.0</td>\n",
       "      <td>23.006500</td>\n",
       "      <td>4.774849</td>\n",
       "      <td>0.180</td>\n",
       "    </tr>\n",
       "    <tr>\n",
       "      <th>3</th>\n",
       "      <td>2007-01-08</td>\n",
       "      <td>28.725790</td>\n",
       "      <td>2560.439941</td>\n",
       "      <td>11000.0</td>\n",
       "      <td>12370.0</td>\n",
       "      <td>23.214399</td>\n",
       "      <td>4.825645</td>\n",
       "      <td>0.175</td>\n",
       "    </tr>\n",
       "    <tr>\n",
       "      <th>4</th>\n",
       "      <td>2007-01-09</td>\n",
       "      <td>29.194698</td>\n",
       "      <td>2602.199951</td>\n",
       "      <td>11090.0</td>\n",
       "      <td>12170.0</td>\n",
       "      <td>22.580799</td>\n",
       "      <td>4.808713</td>\n",
       "      <td>0.000</td>\n",
       "    </tr>\n",
       "  </tbody>\n",
       "</table>\n",
       "</div>"
      ],
      "text/plain": [
       "        Date    Vodacom  Anglo American    KUMBA     ABSA  Woolworths  \\\n",
       "0 2007-01-03  28.797146     2805.500000  11899.0  12700.0   23.501499   \n",
       "1 2007-01-04  28.786953     2701.100098  11399.0  12600.0   23.214399   \n",
       "2 2007-01-05  29.510704     2637.360107  11300.0  12286.0   23.006500   \n",
       "3 2007-01-08  28.725790     2560.439941  11000.0  12370.0   23.214399   \n",
       "4 2007-01-09  29.194698     2602.199951  11090.0  12170.0   22.580799   \n",
       "\n",
       "   ALSE (benchmark)  Risk- Free-Rate   \n",
       "0          4.817180             0.185  \n",
       "1          4.715587             0.190  \n",
       "2          4.774849             0.180  \n",
       "3          4.825645             0.175  \n",
       "4          4.808713             0.000  "
      ]
     },
     "execution_count": 4,
     "metadata": {},
     "output_type": "execute_result"
    }
   ],
   "source": [
    "df.head()"
   ]
  },
  {
   "cell_type": "code",
   "execution_count": 5,
   "metadata": {},
   "outputs": [
    {
     "name": "stdout",
     "output_type": "stream",
     "text": [
      "<class 'pandas.core.frame.DataFrame'>\n",
      "RangeIndex: 3353 entries, 0 to 3352\n",
      "Data columns (total 8 columns):\n",
      " #   Column            Non-Null Count  Dtype         \n",
      "---  ------            --------------  -----         \n",
      " 0   Date              3353 non-null   datetime64[ns]\n",
      " 1   Vodacom           3353 non-null   float64       \n",
      " 2   Anglo American    3353 non-null   float64       \n",
      " 3   KUMBA             3353 non-null   float64       \n",
      " 4   ABSA              3353 non-null   float64       \n",
      " 5   Woolworths        3353 non-null   float64       \n",
      " 6   ALSE (benchmark)  3353 non-null   float64       \n",
      " 7   Risk- Free-Rate   3353 non-null   float64       \n",
      "dtypes: datetime64[ns](1), float64(7)\n",
      "memory usage: 209.7 KB\n"
     ]
    }
   ],
   "source": [
    "df.info()"
   ]
  },
  {
   "cell_type": "code",
   "execution_count": 6,
   "metadata": {},
   "outputs": [],
   "source": [
    "stocks = ['Vodacom','Anglo American','KUMBA','ABSA','Woolworths']"
   ]
  },
  {
   "cell_type": "code",
   "execution_count": 7,
   "metadata": {},
   "outputs": [],
   "source": [
    "for stock in stocks:\n",
    "    df[f'{stock} Return'] = df[stock].pct_change(periods=1)"
   ]
  },
  {
   "cell_type": "code",
   "execution_count": 8,
   "metadata": {},
   "outputs": [
    {
     "data": {
      "text/html": [
       "<div>\n",
       "<style scoped>\n",
       "    .dataframe tbody tr th:only-of-type {\n",
       "        vertical-align: middle;\n",
       "    }\n",
       "\n",
       "    .dataframe tbody tr th {\n",
       "        vertical-align: top;\n",
       "    }\n",
       "\n",
       "    .dataframe thead th {\n",
       "        text-align: right;\n",
       "    }\n",
       "</style>\n",
       "<table border=\"1\" class=\"dataframe\">\n",
       "  <thead>\n",
       "    <tr style=\"text-align: right;\">\n",
       "      <th></th>\n",
       "      <th>Date</th>\n",
       "      <th>Vodacom</th>\n",
       "      <th>Anglo American</th>\n",
       "      <th>KUMBA</th>\n",
       "      <th>ABSA</th>\n",
       "      <th>Woolworths</th>\n",
       "      <th>ALSE (benchmark)</th>\n",
       "      <th>Risk- Free-Rate</th>\n",
       "      <th>Vodacom Return</th>\n",
       "      <th>Anglo American Return</th>\n",
       "      <th>KUMBA Return</th>\n",
       "      <th>ABSA Return</th>\n",
       "      <th>Woolworths Return</th>\n",
       "    </tr>\n",
       "  </thead>\n",
       "  <tbody>\n",
       "    <tr>\n",
       "      <th>0</th>\n",
       "      <td>2007-01-03</td>\n",
       "      <td>28.797146</td>\n",
       "      <td>2805.500000</td>\n",
       "      <td>11899.0</td>\n",
       "      <td>12700.0</td>\n",
       "      <td>23.501499</td>\n",
       "      <td>4.817180</td>\n",
       "      <td>0.185</td>\n",
       "      <td>NaN</td>\n",
       "      <td>NaN</td>\n",
       "      <td>NaN</td>\n",
       "      <td>NaN</td>\n",
       "      <td>NaN</td>\n",
       "    </tr>\n",
       "    <tr>\n",
       "      <th>1</th>\n",
       "      <td>2007-01-04</td>\n",
       "      <td>28.786953</td>\n",
       "      <td>2701.100098</td>\n",
       "      <td>11399.0</td>\n",
       "      <td>12600.0</td>\n",
       "      <td>23.214399</td>\n",
       "      <td>4.715587</td>\n",
       "      <td>0.190</td>\n",
       "      <td>-0.000354</td>\n",
       "      <td>-0.037213</td>\n",
       "      <td>-0.042020</td>\n",
       "      <td>-0.007874</td>\n",
       "      <td>-0.012216</td>\n",
       "    </tr>\n",
       "    <tr>\n",
       "      <th>2</th>\n",
       "      <td>2007-01-05</td>\n",
       "      <td>29.510704</td>\n",
       "      <td>2637.360107</td>\n",
       "      <td>11300.0</td>\n",
       "      <td>12286.0</td>\n",
       "      <td>23.006500</td>\n",
       "      <td>4.774849</td>\n",
       "      <td>0.180</td>\n",
       "      <td>0.025142</td>\n",
       "      <td>-0.023598</td>\n",
       "      <td>-0.008685</td>\n",
       "      <td>-0.024921</td>\n",
       "      <td>-0.008956</td>\n",
       "    </tr>\n",
       "    <tr>\n",
       "      <th>3</th>\n",
       "      <td>2007-01-08</td>\n",
       "      <td>28.725790</td>\n",
       "      <td>2560.439941</td>\n",
       "      <td>11000.0</td>\n",
       "      <td>12370.0</td>\n",
       "      <td>23.214399</td>\n",
       "      <td>4.825645</td>\n",
       "      <td>0.175</td>\n",
       "      <td>-0.026598</td>\n",
       "      <td>-0.029166</td>\n",
       "      <td>-0.026549</td>\n",
       "      <td>0.006837</td>\n",
       "      <td>0.009037</td>\n",
       "    </tr>\n",
       "    <tr>\n",
       "      <th>4</th>\n",
       "      <td>2007-01-09</td>\n",
       "      <td>29.194698</td>\n",
       "      <td>2602.199951</td>\n",
       "      <td>11090.0</td>\n",
       "      <td>12170.0</td>\n",
       "      <td>22.580799</td>\n",
       "      <td>4.808713</td>\n",
       "      <td>0.000</td>\n",
       "      <td>0.016324</td>\n",
       "      <td>0.016310</td>\n",
       "      <td>0.008182</td>\n",
       "      <td>-0.016168</td>\n",
       "      <td>-0.027293</td>\n",
       "    </tr>\n",
       "  </tbody>\n",
       "</table>\n",
       "</div>"
      ],
      "text/plain": [
       "        Date    Vodacom  Anglo American    KUMBA     ABSA  Woolworths  \\\n",
       "0 2007-01-03  28.797146     2805.500000  11899.0  12700.0   23.501499   \n",
       "1 2007-01-04  28.786953     2701.100098  11399.0  12600.0   23.214399   \n",
       "2 2007-01-05  29.510704     2637.360107  11300.0  12286.0   23.006500   \n",
       "3 2007-01-08  28.725790     2560.439941  11000.0  12370.0   23.214399   \n",
       "4 2007-01-09  29.194698     2602.199951  11090.0  12170.0   22.580799   \n",
       "\n",
       "   ALSE (benchmark)  Risk- Free-Rate   Vodacom Return  Anglo American Return  \\\n",
       "0          4.817180             0.185             NaN                    NaN   \n",
       "1          4.715587             0.190       -0.000354              -0.037213   \n",
       "2          4.774849             0.180        0.025142              -0.023598   \n",
       "3          4.825645             0.175       -0.026598              -0.029166   \n",
       "4          4.808713             0.000        0.016324               0.016310   \n",
       "\n",
       "   KUMBA Return  ABSA Return  Woolworths Return  \n",
       "0           NaN          NaN                NaN  \n",
       "1     -0.042020    -0.007874          -0.012216  \n",
       "2     -0.008685    -0.024921          -0.008956  \n",
       "3     -0.026549     0.006837           0.009037  \n",
       "4      0.008182    -0.016168          -0.027293  "
      ]
     },
     "execution_count": 8,
     "metadata": {},
     "output_type": "execute_result"
    }
   ],
   "source": [
    "df.head()"
   ]
  },
  {
   "cell_type": "code",
   "execution_count": 9,
   "metadata": {},
   "outputs": [],
   "source": [
    "df['Excess Market Return'] = df['ALSE (benchmark)'] - df['Risk- Free-Rate ']"
   ]
  },
  {
   "cell_type": "code",
   "execution_count": 10,
   "metadata": {},
   "outputs": [
    {
     "data": {
      "text/html": [
       "<div>\n",
       "<style scoped>\n",
       "    .dataframe tbody tr th:only-of-type {\n",
       "        vertical-align: middle;\n",
       "    }\n",
       "\n",
       "    .dataframe tbody tr th {\n",
       "        vertical-align: top;\n",
       "    }\n",
       "\n",
       "    .dataframe thead th {\n",
       "        text-align: right;\n",
       "    }\n",
       "</style>\n",
       "<table border=\"1\" class=\"dataframe\">\n",
       "  <thead>\n",
       "    <tr style=\"text-align: right;\">\n",
       "      <th></th>\n",
       "      <th>Date</th>\n",
       "      <th>Vodacom</th>\n",
       "      <th>Anglo American</th>\n",
       "      <th>KUMBA</th>\n",
       "      <th>ABSA</th>\n",
       "      <th>Woolworths</th>\n",
       "      <th>ALSE (benchmark)</th>\n",
       "      <th>Risk- Free-Rate</th>\n",
       "      <th>Vodacom Return</th>\n",
       "      <th>Anglo American Return</th>\n",
       "      <th>KUMBA Return</th>\n",
       "      <th>ABSA Return</th>\n",
       "      <th>Woolworths Return</th>\n",
       "      <th>Excess Market Return</th>\n",
       "    </tr>\n",
       "  </thead>\n",
       "  <tbody>\n",
       "    <tr>\n",
       "      <th>0</th>\n",
       "      <td>2007-01-03</td>\n",
       "      <td>28.797146</td>\n",
       "      <td>2805.500000</td>\n",
       "      <td>11899.0</td>\n",
       "      <td>12700.0</td>\n",
       "      <td>23.501499</td>\n",
       "      <td>4.817180</td>\n",
       "      <td>0.185</td>\n",
       "      <td>NaN</td>\n",
       "      <td>NaN</td>\n",
       "      <td>NaN</td>\n",
       "      <td>NaN</td>\n",
       "      <td>NaN</td>\n",
       "      <td>4.632180</td>\n",
       "    </tr>\n",
       "    <tr>\n",
       "      <th>1</th>\n",
       "      <td>2007-01-04</td>\n",
       "      <td>28.786953</td>\n",
       "      <td>2701.100098</td>\n",
       "      <td>11399.0</td>\n",
       "      <td>12600.0</td>\n",
       "      <td>23.214399</td>\n",
       "      <td>4.715587</td>\n",
       "      <td>0.190</td>\n",
       "      <td>-0.000354</td>\n",
       "      <td>-0.037213</td>\n",
       "      <td>-0.042020</td>\n",
       "      <td>-0.007874</td>\n",
       "      <td>-0.012216</td>\n",
       "      <td>4.525587</td>\n",
       "    </tr>\n",
       "    <tr>\n",
       "      <th>2</th>\n",
       "      <td>2007-01-05</td>\n",
       "      <td>29.510704</td>\n",
       "      <td>2637.360107</td>\n",
       "      <td>11300.0</td>\n",
       "      <td>12286.0</td>\n",
       "      <td>23.006500</td>\n",
       "      <td>4.774849</td>\n",
       "      <td>0.180</td>\n",
       "      <td>0.025142</td>\n",
       "      <td>-0.023598</td>\n",
       "      <td>-0.008685</td>\n",
       "      <td>-0.024921</td>\n",
       "      <td>-0.008956</td>\n",
       "      <td>4.594849</td>\n",
       "    </tr>\n",
       "    <tr>\n",
       "      <th>3</th>\n",
       "      <td>2007-01-08</td>\n",
       "      <td>28.725790</td>\n",
       "      <td>2560.439941</td>\n",
       "      <td>11000.0</td>\n",
       "      <td>12370.0</td>\n",
       "      <td>23.214399</td>\n",
       "      <td>4.825645</td>\n",
       "      <td>0.175</td>\n",
       "      <td>-0.026598</td>\n",
       "      <td>-0.029166</td>\n",
       "      <td>-0.026549</td>\n",
       "      <td>0.006837</td>\n",
       "      <td>0.009037</td>\n",
       "      <td>4.650645</td>\n",
       "    </tr>\n",
       "    <tr>\n",
       "      <th>4</th>\n",
       "      <td>2007-01-09</td>\n",
       "      <td>29.194698</td>\n",
       "      <td>2602.199951</td>\n",
       "      <td>11090.0</td>\n",
       "      <td>12170.0</td>\n",
       "      <td>22.580799</td>\n",
       "      <td>4.808713</td>\n",
       "      <td>0.000</td>\n",
       "      <td>0.016324</td>\n",
       "      <td>0.016310</td>\n",
       "      <td>0.008182</td>\n",
       "      <td>-0.016168</td>\n",
       "      <td>-0.027293</td>\n",
       "      <td>4.808713</td>\n",
       "    </tr>\n",
       "  </tbody>\n",
       "</table>\n",
       "</div>"
      ],
      "text/plain": [
       "        Date    Vodacom  Anglo American    KUMBA     ABSA  Woolworths  \\\n",
       "0 2007-01-03  28.797146     2805.500000  11899.0  12700.0   23.501499   \n",
       "1 2007-01-04  28.786953     2701.100098  11399.0  12600.0   23.214399   \n",
       "2 2007-01-05  29.510704     2637.360107  11300.0  12286.0   23.006500   \n",
       "3 2007-01-08  28.725790     2560.439941  11000.0  12370.0   23.214399   \n",
       "4 2007-01-09  29.194698     2602.199951  11090.0  12170.0   22.580799   \n",
       "\n",
       "   ALSE (benchmark)  Risk- Free-Rate   Vodacom Return  Anglo American Return  \\\n",
       "0          4.817180             0.185             NaN                    NaN   \n",
       "1          4.715587             0.190       -0.000354              -0.037213   \n",
       "2          4.774849             0.180        0.025142              -0.023598   \n",
       "3          4.825645             0.175       -0.026598              -0.029166   \n",
       "4          4.808713             0.000        0.016324               0.016310   \n",
       "\n",
       "   KUMBA Return  ABSA Return  Woolworths Return  Excess Market Return  \n",
       "0           NaN          NaN                NaN              4.632180  \n",
       "1     -0.042020    -0.007874          -0.012216              4.525587  \n",
       "2     -0.008685    -0.024921          -0.008956              4.594849  \n",
       "3     -0.026549     0.006837           0.009037              4.650645  \n",
       "4      0.008182    -0.016168          -0.027293              4.808713  "
      ]
     },
     "execution_count": 10,
     "metadata": {},
     "output_type": "execute_result"
    }
   ],
   "source": [
    "df.head()"
   ]
  },
  {
   "cell_type": "code",
   "execution_count": 11,
   "metadata": {},
   "outputs": [
    {
     "name": "stderr",
     "output_type": "stream",
     "text": [
      "C:\\Users\\clint\\AppData\\Local\\Temp\\ipykernel_6364\\3425510600.py:1: SettingWithCopyWarning: \n",
      "A value is trying to be set on a copy of a slice from a DataFrame\n",
      "\n",
      "See the caveats in the documentation: https://pandas.pydata.org/pandas-docs/stable/user_guide/indexing.html#returning-a-view-versus-a-copy\n",
      "  df['Excess Market Return'].iloc[0] = np.nan\n"
     ]
    }
   ],
   "source": [
    "df['Excess Market Return'].iloc[0] = np.nan"
   ]
  },
  {
   "cell_type": "code",
   "execution_count": 12,
   "metadata": {},
   "outputs": [
    {
     "data": {
      "text/html": [
       "<div>\n",
       "<style scoped>\n",
       "    .dataframe tbody tr th:only-of-type {\n",
       "        vertical-align: middle;\n",
       "    }\n",
       "\n",
       "    .dataframe tbody tr th {\n",
       "        vertical-align: top;\n",
       "    }\n",
       "\n",
       "    .dataframe thead th {\n",
       "        text-align: right;\n",
       "    }\n",
       "</style>\n",
       "<table border=\"1\" class=\"dataframe\">\n",
       "  <thead>\n",
       "    <tr style=\"text-align: right;\">\n",
       "      <th></th>\n",
       "      <th>Date</th>\n",
       "      <th>Vodacom</th>\n",
       "      <th>Anglo American</th>\n",
       "      <th>KUMBA</th>\n",
       "      <th>ABSA</th>\n",
       "      <th>Woolworths</th>\n",
       "      <th>ALSE (benchmark)</th>\n",
       "      <th>Risk- Free-Rate</th>\n",
       "      <th>Vodacom Return</th>\n",
       "      <th>Anglo American Return</th>\n",
       "      <th>KUMBA Return</th>\n",
       "      <th>ABSA Return</th>\n",
       "      <th>Woolworths Return</th>\n",
       "      <th>Excess Market Return</th>\n",
       "    </tr>\n",
       "  </thead>\n",
       "  <tbody>\n",
       "    <tr>\n",
       "      <th>0</th>\n",
       "      <td>2007-01-03</td>\n",
       "      <td>28.797146</td>\n",
       "      <td>2805.500000</td>\n",
       "      <td>11899.0</td>\n",
       "      <td>12700.0</td>\n",
       "      <td>23.501499</td>\n",
       "      <td>4.817180</td>\n",
       "      <td>0.185</td>\n",
       "      <td>NaN</td>\n",
       "      <td>NaN</td>\n",
       "      <td>NaN</td>\n",
       "      <td>NaN</td>\n",
       "      <td>NaN</td>\n",
       "      <td>NaN</td>\n",
       "    </tr>\n",
       "    <tr>\n",
       "      <th>1</th>\n",
       "      <td>2007-01-04</td>\n",
       "      <td>28.786953</td>\n",
       "      <td>2701.100098</td>\n",
       "      <td>11399.0</td>\n",
       "      <td>12600.0</td>\n",
       "      <td>23.214399</td>\n",
       "      <td>4.715587</td>\n",
       "      <td>0.190</td>\n",
       "      <td>-0.000354</td>\n",
       "      <td>-0.037213</td>\n",
       "      <td>-0.042020</td>\n",
       "      <td>-0.007874</td>\n",
       "      <td>-0.012216</td>\n",
       "      <td>4.525587</td>\n",
       "    </tr>\n",
       "    <tr>\n",
       "      <th>2</th>\n",
       "      <td>2007-01-05</td>\n",
       "      <td>29.510704</td>\n",
       "      <td>2637.360107</td>\n",
       "      <td>11300.0</td>\n",
       "      <td>12286.0</td>\n",
       "      <td>23.006500</td>\n",
       "      <td>4.774849</td>\n",
       "      <td>0.180</td>\n",
       "      <td>0.025142</td>\n",
       "      <td>-0.023598</td>\n",
       "      <td>-0.008685</td>\n",
       "      <td>-0.024921</td>\n",
       "      <td>-0.008956</td>\n",
       "      <td>4.594849</td>\n",
       "    </tr>\n",
       "    <tr>\n",
       "      <th>3</th>\n",
       "      <td>2007-01-08</td>\n",
       "      <td>28.725790</td>\n",
       "      <td>2560.439941</td>\n",
       "      <td>11000.0</td>\n",
       "      <td>12370.0</td>\n",
       "      <td>23.214399</td>\n",
       "      <td>4.825645</td>\n",
       "      <td>0.175</td>\n",
       "      <td>-0.026598</td>\n",
       "      <td>-0.029166</td>\n",
       "      <td>-0.026549</td>\n",
       "      <td>0.006837</td>\n",
       "      <td>0.009037</td>\n",
       "      <td>4.650645</td>\n",
       "    </tr>\n",
       "    <tr>\n",
       "      <th>4</th>\n",
       "      <td>2007-01-09</td>\n",
       "      <td>29.194698</td>\n",
       "      <td>2602.199951</td>\n",
       "      <td>11090.0</td>\n",
       "      <td>12170.0</td>\n",
       "      <td>22.580799</td>\n",
       "      <td>4.808713</td>\n",
       "      <td>0.000</td>\n",
       "      <td>0.016324</td>\n",
       "      <td>0.016310</td>\n",
       "      <td>0.008182</td>\n",
       "      <td>-0.016168</td>\n",
       "      <td>-0.027293</td>\n",
       "      <td>4.808713</td>\n",
       "    </tr>\n",
       "  </tbody>\n",
       "</table>\n",
       "</div>"
      ],
      "text/plain": [
       "        Date    Vodacom  Anglo American    KUMBA     ABSA  Woolworths  \\\n",
       "0 2007-01-03  28.797146     2805.500000  11899.0  12700.0   23.501499   \n",
       "1 2007-01-04  28.786953     2701.100098  11399.0  12600.0   23.214399   \n",
       "2 2007-01-05  29.510704     2637.360107  11300.0  12286.0   23.006500   \n",
       "3 2007-01-08  28.725790     2560.439941  11000.0  12370.0   23.214399   \n",
       "4 2007-01-09  29.194698     2602.199951  11090.0  12170.0   22.580799   \n",
       "\n",
       "   ALSE (benchmark)  Risk- Free-Rate   Vodacom Return  Anglo American Return  \\\n",
       "0          4.817180             0.185             NaN                    NaN   \n",
       "1          4.715587             0.190       -0.000354              -0.037213   \n",
       "2          4.774849             0.180        0.025142              -0.023598   \n",
       "3          4.825645             0.175       -0.026598              -0.029166   \n",
       "4          4.808713             0.000        0.016324               0.016310   \n",
       "\n",
       "   KUMBA Return  ABSA Return  Woolworths Return  Excess Market Return  \n",
       "0           NaN          NaN                NaN                   NaN  \n",
       "1     -0.042020    -0.007874          -0.012216              4.525587  \n",
       "2     -0.008685    -0.024921          -0.008956              4.594849  \n",
       "3     -0.026549     0.006837           0.009037              4.650645  \n",
       "4      0.008182    -0.016168          -0.027293              4.808713  "
      ]
     },
     "execution_count": 12,
     "metadata": {},
     "output_type": "execute_result"
    }
   ],
   "source": [
    "df.head()"
   ]
  },
  {
   "cell_type": "code",
   "execution_count": 13,
   "metadata": {},
   "outputs": [],
   "source": [
    "expected_returns = {\n",
    "    'Vodacom':df['Vodacom Return'].mean(),\n",
    "    'Anglo American':df['Anglo American Return'].mean(),\n",
    "    'KUMBA':df['KUMBA Return'].mean(),\n",
    "    'ABSA':df['ABSA Return'].mean(),\n",
    "    'Woolworths':df['Woolworths Return'].mean()\n",
    "}"
   ]
  },
  {
   "cell_type": "code",
   "execution_count": 14,
   "metadata": {},
   "outputs": [],
   "source": [
    "expected_returns_df = pd.DataFrame(expected_returns,index=['Expected Returns'])"
   ]
  },
  {
   "cell_type": "code",
   "execution_count": 15,
   "metadata": {},
   "outputs": [
    {
     "data": {
      "text/html": [
       "<div>\n",
       "<style scoped>\n",
       "    .dataframe tbody tr th:only-of-type {\n",
       "        vertical-align: middle;\n",
       "    }\n",
       "\n",
       "    .dataframe tbody tr th {\n",
       "        vertical-align: top;\n",
       "    }\n",
       "\n",
       "    .dataframe thead th {\n",
       "        text-align: right;\n",
       "    }\n",
       "</style>\n",
       "<table border=\"1\" class=\"dataframe\">\n",
       "  <thead>\n",
       "    <tr style=\"text-align: right;\">\n",
       "      <th></th>\n",
       "      <th>Vodacom</th>\n",
       "      <th>Anglo American</th>\n",
       "      <th>KUMBA</th>\n",
       "      <th>ABSA</th>\n",
       "      <th>Woolworths</th>\n",
       "    </tr>\n",
       "  </thead>\n",
       "  <tbody>\n",
       "    <tr>\n",
       "      <th>Expected Returns</th>\n",
       "      <td>0.000067</td>\n",
       "      <td>0.023503</td>\n",
       "      <td>0.000797</td>\n",
       "      <td>0.000205</td>\n",
       "      <td>0.00023</td>\n",
       "    </tr>\n",
       "  </tbody>\n",
       "</table>\n",
       "</div>"
      ],
      "text/plain": [
       "                   Vodacom  Anglo American     KUMBA      ABSA  Woolworths\n",
       "Expected Returns  0.000067        0.023503  0.000797  0.000205     0.00023"
      ]
     },
     "execution_count": 15,
     "metadata": {},
     "output_type": "execute_result"
    }
   ],
   "source": [
    "expected_returns_df"
   ]
  },
  {
   "cell_type": "code",
   "execution_count": 16,
   "metadata": {},
   "outputs": [],
   "source": [
    "for stock in stocks:\n",
    "    df[f'Excess {stock}'] = df[f'{stock} Return'] - df['Risk- Free-Rate ']"
   ]
  },
  {
   "cell_type": "code",
   "execution_count": 17,
   "metadata": {},
   "outputs": [
    {
     "data": {
      "text/html": [
       "<div>\n",
       "<style scoped>\n",
       "    .dataframe tbody tr th:only-of-type {\n",
       "        vertical-align: middle;\n",
       "    }\n",
       "\n",
       "    .dataframe tbody tr th {\n",
       "        vertical-align: top;\n",
       "    }\n",
       "\n",
       "    .dataframe thead th {\n",
       "        text-align: right;\n",
       "    }\n",
       "</style>\n",
       "<table border=\"1\" class=\"dataframe\">\n",
       "  <thead>\n",
       "    <tr style=\"text-align: right;\">\n",
       "      <th></th>\n",
       "      <th>Date</th>\n",
       "      <th>Vodacom</th>\n",
       "      <th>Anglo American</th>\n",
       "      <th>KUMBA</th>\n",
       "      <th>ABSA</th>\n",
       "      <th>Woolworths</th>\n",
       "      <th>ALSE (benchmark)</th>\n",
       "      <th>Risk- Free-Rate</th>\n",
       "      <th>Vodacom Return</th>\n",
       "      <th>Anglo American Return</th>\n",
       "      <th>KUMBA Return</th>\n",
       "      <th>ABSA Return</th>\n",
       "      <th>Woolworths Return</th>\n",
       "      <th>Excess Market Return</th>\n",
       "      <th>Excess Vodacom</th>\n",
       "      <th>Excess Anglo American</th>\n",
       "      <th>Excess KUMBA</th>\n",
       "      <th>Excess ABSA</th>\n",
       "      <th>Excess Woolworths</th>\n",
       "    </tr>\n",
       "  </thead>\n",
       "  <tbody>\n",
       "    <tr>\n",
       "      <th>0</th>\n",
       "      <td>2007-01-03</td>\n",
       "      <td>28.797146</td>\n",
       "      <td>2805.500000</td>\n",
       "      <td>11899.0</td>\n",
       "      <td>12700.0</td>\n",
       "      <td>23.501499</td>\n",
       "      <td>4.817180</td>\n",
       "      <td>0.185</td>\n",
       "      <td>NaN</td>\n",
       "      <td>NaN</td>\n",
       "      <td>NaN</td>\n",
       "      <td>NaN</td>\n",
       "      <td>NaN</td>\n",
       "      <td>NaN</td>\n",
       "      <td>NaN</td>\n",
       "      <td>NaN</td>\n",
       "      <td>NaN</td>\n",
       "      <td>NaN</td>\n",
       "      <td>NaN</td>\n",
       "    </tr>\n",
       "    <tr>\n",
       "      <th>1</th>\n",
       "      <td>2007-01-04</td>\n",
       "      <td>28.786953</td>\n",
       "      <td>2701.100098</td>\n",
       "      <td>11399.0</td>\n",
       "      <td>12600.0</td>\n",
       "      <td>23.214399</td>\n",
       "      <td>4.715587</td>\n",
       "      <td>0.190</td>\n",
       "      <td>-0.000354</td>\n",
       "      <td>-0.037213</td>\n",
       "      <td>-0.042020</td>\n",
       "      <td>-0.007874</td>\n",
       "      <td>-0.012216</td>\n",
       "      <td>4.525587</td>\n",
       "      <td>-0.190354</td>\n",
       "      <td>-0.227213</td>\n",
       "      <td>-0.232020</td>\n",
       "      <td>-0.197874</td>\n",
       "      <td>-0.202216</td>\n",
       "    </tr>\n",
       "    <tr>\n",
       "      <th>2</th>\n",
       "      <td>2007-01-05</td>\n",
       "      <td>29.510704</td>\n",
       "      <td>2637.360107</td>\n",
       "      <td>11300.0</td>\n",
       "      <td>12286.0</td>\n",
       "      <td>23.006500</td>\n",
       "      <td>4.774849</td>\n",
       "      <td>0.180</td>\n",
       "      <td>0.025142</td>\n",
       "      <td>-0.023598</td>\n",
       "      <td>-0.008685</td>\n",
       "      <td>-0.024921</td>\n",
       "      <td>-0.008956</td>\n",
       "      <td>4.594849</td>\n",
       "      <td>-0.154858</td>\n",
       "      <td>-0.203598</td>\n",
       "      <td>-0.188685</td>\n",
       "      <td>-0.204921</td>\n",
       "      <td>-0.188956</td>\n",
       "    </tr>\n",
       "    <tr>\n",
       "      <th>3</th>\n",
       "      <td>2007-01-08</td>\n",
       "      <td>28.725790</td>\n",
       "      <td>2560.439941</td>\n",
       "      <td>11000.0</td>\n",
       "      <td>12370.0</td>\n",
       "      <td>23.214399</td>\n",
       "      <td>4.825645</td>\n",
       "      <td>0.175</td>\n",
       "      <td>-0.026598</td>\n",
       "      <td>-0.029166</td>\n",
       "      <td>-0.026549</td>\n",
       "      <td>0.006837</td>\n",
       "      <td>0.009037</td>\n",
       "      <td>4.650645</td>\n",
       "      <td>-0.201598</td>\n",
       "      <td>-0.204166</td>\n",
       "      <td>-0.201549</td>\n",
       "      <td>-0.168163</td>\n",
       "      <td>-0.165963</td>\n",
       "    </tr>\n",
       "    <tr>\n",
       "      <th>4</th>\n",
       "      <td>2007-01-09</td>\n",
       "      <td>29.194698</td>\n",
       "      <td>2602.199951</td>\n",
       "      <td>11090.0</td>\n",
       "      <td>12170.0</td>\n",
       "      <td>22.580799</td>\n",
       "      <td>4.808713</td>\n",
       "      <td>0.000</td>\n",
       "      <td>0.016324</td>\n",
       "      <td>0.016310</td>\n",
       "      <td>0.008182</td>\n",
       "      <td>-0.016168</td>\n",
       "      <td>-0.027293</td>\n",
       "      <td>4.808713</td>\n",
       "      <td>0.016324</td>\n",
       "      <td>0.016310</td>\n",
       "      <td>0.008182</td>\n",
       "      <td>-0.016168</td>\n",
       "      <td>-0.027293</td>\n",
       "    </tr>\n",
       "  </tbody>\n",
       "</table>\n",
       "</div>"
      ],
      "text/plain": [
       "        Date    Vodacom  Anglo American    KUMBA     ABSA  Woolworths  \\\n",
       "0 2007-01-03  28.797146     2805.500000  11899.0  12700.0   23.501499   \n",
       "1 2007-01-04  28.786953     2701.100098  11399.0  12600.0   23.214399   \n",
       "2 2007-01-05  29.510704     2637.360107  11300.0  12286.0   23.006500   \n",
       "3 2007-01-08  28.725790     2560.439941  11000.0  12370.0   23.214399   \n",
       "4 2007-01-09  29.194698     2602.199951  11090.0  12170.0   22.580799   \n",
       "\n",
       "   ALSE (benchmark)  Risk- Free-Rate   Vodacom Return  Anglo American Return  \\\n",
       "0          4.817180             0.185             NaN                    NaN   \n",
       "1          4.715587             0.190       -0.000354              -0.037213   \n",
       "2          4.774849             0.180        0.025142              -0.023598   \n",
       "3          4.825645             0.175       -0.026598              -0.029166   \n",
       "4          4.808713             0.000        0.016324               0.016310   \n",
       "\n",
       "   KUMBA Return  ABSA Return  Woolworths Return  Excess Market Return  \\\n",
       "0           NaN          NaN                NaN                   NaN   \n",
       "1     -0.042020    -0.007874          -0.012216              4.525587   \n",
       "2     -0.008685    -0.024921          -0.008956              4.594849   \n",
       "3     -0.026549     0.006837           0.009037              4.650645   \n",
       "4      0.008182    -0.016168          -0.027293              4.808713   \n",
       "\n",
       "   Excess Vodacom  Excess Anglo American  Excess KUMBA  Excess ABSA  \\\n",
       "0             NaN                    NaN           NaN          NaN   \n",
       "1       -0.190354              -0.227213     -0.232020    -0.197874   \n",
       "2       -0.154858              -0.203598     -0.188685    -0.204921   \n",
       "3       -0.201598              -0.204166     -0.201549    -0.168163   \n",
       "4        0.016324               0.016310      0.008182    -0.016168   \n",
       "\n",
       "   Excess Woolworths  \n",
       "0                NaN  \n",
       "1          -0.202216  \n",
       "2          -0.188956  \n",
       "3          -0.165963  \n",
       "4          -0.027293  "
      ]
     },
     "execution_count": 17,
     "metadata": {},
     "output_type": "execute_result"
    }
   ],
   "source": [
    "df.head()"
   ]
  },
  {
   "cell_type": "code",
   "execution_count": 18,
   "metadata": {},
   "outputs": [],
   "source": [
    "excess_return_matrix = pd.DataFrame()"
   ]
  },
  {
   "cell_type": "code",
   "execution_count": 19,
   "metadata": {},
   "outputs": [],
   "source": [
    "for stock in stocks:\n",
    "    excess_return_matrix[f'{stock} Excess'] = df[f'{stock} Return'] - expected_returns_df[stock][0]"
   ]
  },
  {
   "cell_type": "code",
   "execution_count": 20,
   "metadata": {},
   "outputs": [
    {
     "data": {
      "text/html": [
       "<div>\n",
       "<style scoped>\n",
       "    .dataframe tbody tr th:only-of-type {\n",
       "        vertical-align: middle;\n",
       "    }\n",
       "\n",
       "    .dataframe tbody tr th {\n",
       "        vertical-align: top;\n",
       "    }\n",
       "\n",
       "    .dataframe thead th {\n",
       "        text-align: right;\n",
       "    }\n",
       "</style>\n",
       "<table border=\"1\" class=\"dataframe\">\n",
       "  <thead>\n",
       "    <tr style=\"text-align: right;\">\n",
       "      <th></th>\n",
       "      <th>Vodacom Excess</th>\n",
       "      <th>Anglo American Excess</th>\n",
       "      <th>KUMBA Excess</th>\n",
       "      <th>ABSA Excess</th>\n",
       "      <th>Woolworths Excess</th>\n",
       "    </tr>\n",
       "  </thead>\n",
       "  <tbody>\n",
       "    <tr>\n",
       "      <th>0</th>\n",
       "      <td>NaN</td>\n",
       "      <td>NaN</td>\n",
       "      <td>NaN</td>\n",
       "      <td>NaN</td>\n",
       "      <td>NaN</td>\n",
       "    </tr>\n",
       "    <tr>\n",
       "      <th>1</th>\n",
       "      <td>-0.000421</td>\n",
       "      <td>-0.060716</td>\n",
       "      <td>-0.042817</td>\n",
       "      <td>-0.008079</td>\n",
       "      <td>-0.012447</td>\n",
       "    </tr>\n",
       "    <tr>\n",
       "      <th>2</th>\n",
       "      <td>0.025075</td>\n",
       "      <td>-0.047101</td>\n",
       "      <td>-0.009482</td>\n",
       "      <td>-0.025126</td>\n",
       "      <td>-0.009186</td>\n",
       "    </tr>\n",
       "    <tr>\n",
       "      <th>3</th>\n",
       "      <td>-0.026665</td>\n",
       "      <td>-0.052669</td>\n",
       "      <td>-0.027345</td>\n",
       "      <td>0.006632</td>\n",
       "      <td>0.008806</td>\n",
       "    </tr>\n",
       "    <tr>\n",
       "      <th>4</th>\n",
       "      <td>0.016257</td>\n",
       "      <td>-0.007193</td>\n",
       "      <td>0.007385</td>\n",
       "      <td>-0.016373</td>\n",
       "      <td>-0.027524</td>\n",
       "    </tr>\n",
       "  </tbody>\n",
       "</table>\n",
       "</div>"
      ],
      "text/plain": [
       "   Vodacom Excess  Anglo American Excess  KUMBA Excess  ABSA Excess  \\\n",
       "0             NaN                    NaN           NaN          NaN   \n",
       "1       -0.000421              -0.060716     -0.042817    -0.008079   \n",
       "2        0.025075              -0.047101     -0.009482    -0.025126   \n",
       "3       -0.026665              -0.052669     -0.027345     0.006632   \n",
       "4        0.016257              -0.007193      0.007385    -0.016373   \n",
       "\n",
       "   Woolworths Excess  \n",
       "0                NaN  \n",
       "1          -0.012447  \n",
       "2          -0.009186  \n",
       "3           0.008806  \n",
       "4          -0.027524  "
      ]
     },
     "execution_count": 20,
     "metadata": {},
     "output_type": "execute_result"
    }
   ],
   "source": [
    "excess_return_matrix.head()"
   ]
  },
  {
   "cell_type": "code",
   "execution_count": 21,
   "metadata": {},
   "outputs": [],
   "source": [
    "variance_covariance_matrix = excess_return_matrix.cov()"
   ]
  },
  {
   "cell_type": "code",
   "execution_count": 22,
   "metadata": {},
   "outputs": [
    {
     "data": {
      "text/html": [
       "<div>\n",
       "<style scoped>\n",
       "    .dataframe tbody tr th:only-of-type {\n",
       "        vertical-align: middle;\n",
       "    }\n",
       "\n",
       "    .dataframe tbody tr th {\n",
       "        vertical-align: top;\n",
       "    }\n",
       "\n",
       "    .dataframe thead th {\n",
       "        text-align: right;\n",
       "    }\n",
       "</style>\n",
       "<table border=\"1\" class=\"dataframe\">\n",
       "  <thead>\n",
       "    <tr style=\"text-align: right;\">\n",
       "      <th></th>\n",
       "      <th>Vodacom Excess</th>\n",
       "      <th>Anglo American Excess</th>\n",
       "      <th>KUMBA Excess</th>\n",
       "      <th>ABSA Excess</th>\n",
       "      <th>Woolworths Excess</th>\n",
       "    </tr>\n",
       "  </thead>\n",
       "  <tbody>\n",
       "    <tr>\n",
       "      <th>Vodacom Excess</th>\n",
       "      <td>0.000362</td>\n",
       "      <td>-0.000187</td>\n",
       "      <td>0.000024</td>\n",
       "      <td>0.000014</td>\n",
       "      <td>0.000009</td>\n",
       "    </tr>\n",
       "    <tr>\n",
       "      <th>Anglo American Excess</th>\n",
       "      <td>-0.000187</td>\n",
       "      <td>1.826478</td>\n",
       "      <td>0.000831</td>\n",
       "      <td>0.000668</td>\n",
       "      <td>0.000043</td>\n",
       "    </tr>\n",
       "    <tr>\n",
       "      <th>KUMBA Excess</th>\n",
       "      <td>0.000024</td>\n",
       "      <td>0.000831</td>\n",
       "      <td>0.000943</td>\n",
       "      <td>0.000133</td>\n",
       "      <td>0.000016</td>\n",
       "    </tr>\n",
       "    <tr>\n",
       "      <th>ABSA Excess</th>\n",
       "      <td>0.000014</td>\n",
       "      <td>0.000668</td>\n",
       "      <td>0.000133</td>\n",
       "      <td>0.000366</td>\n",
       "      <td>0.000003</td>\n",
       "    </tr>\n",
       "    <tr>\n",
       "      <th>Woolworths Excess</th>\n",
       "      <td>0.000009</td>\n",
       "      <td>0.000043</td>\n",
       "      <td>0.000016</td>\n",
       "      <td>0.000003</td>\n",
       "      <td>0.000183</td>\n",
       "    </tr>\n",
       "  </tbody>\n",
       "</table>\n",
       "</div>"
      ],
      "text/plain": [
       "                       Vodacom Excess  Anglo American Excess  KUMBA Excess  \\\n",
       "Vodacom Excess               0.000362              -0.000187      0.000024   \n",
       "Anglo American Excess       -0.000187               1.826478      0.000831   \n",
       "KUMBA Excess                 0.000024               0.000831      0.000943   \n",
       "ABSA Excess                  0.000014               0.000668      0.000133   \n",
       "Woolworths Excess            0.000009               0.000043      0.000016   \n",
       "\n",
       "                       ABSA Excess  Woolworths Excess  \n",
       "Vodacom Excess            0.000014           0.000009  \n",
       "Anglo American Excess     0.000668           0.000043  \n",
       "KUMBA Excess              0.000133           0.000016  \n",
       "ABSA Excess               0.000366           0.000003  \n",
       "Woolworths Excess         0.000003           0.000183  "
      ]
     },
     "execution_count": 22,
     "metadata": {},
     "output_type": "execute_result"
    }
   ],
   "source": [
    "variance_covariance_matrix"
   ]
  },
  {
   "cell_type": "code",
   "execution_count": 23,
   "metadata": {},
   "outputs": [
    {
     "data": {
      "text/plain": [
       "array([[ 3.61991990e-04, -1.87351930e-04,  2.43737890e-05,\n",
       "         1.38638503e-05,  8.57237045e-06],\n",
       "       [-1.87351930e-04,  1.82647767e+00,  8.30519406e-04,\n",
       "         6.68314190e-04,  4.29965495e-05],\n",
       "       [ 2.43737890e-05,  8.30519406e-04,  9.43281402e-04,\n",
       "         1.32730091e-04,  1.64882887e-05],\n",
       "       [ 1.38638503e-05,  6.68314190e-04,  1.32730091e-04,\n",
       "         3.65700412e-04,  3.02810457e-06],\n",
       "       [ 8.57237045e-06,  4.29965495e-05,  1.64882887e-05,\n",
       "         3.02810457e-06,  1.82824315e-04]])"
      ]
     },
     "execution_count": 23,
     "metadata": {},
     "output_type": "execute_result"
    }
   ],
   "source": [
    "variance_covariance_matrix.to_numpy()"
   ]
  },
  {
   "cell_type": "code",
   "execution_count": 24,
   "metadata": {},
   "outputs": [],
   "source": [
    "weights = [0.2,0.25,0.45,0.05,0.05]"
   ]
  },
  {
   "cell_type": "code",
   "execution_count": 25,
   "metadata": {},
   "outputs": [],
   "source": [
    "weights = np.array(weights)"
   ]
  },
  {
   "cell_type": "code",
   "execution_count": 26,
   "metadata": {},
   "outputs": [
    {
     "data": {
      "text/plain": [
       "array([0.2 , 0.25, 0.45, 0.05, 0.05])"
      ]
     },
     "execution_count": 26,
     "metadata": {},
     "output_type": "execute_result"
    }
   ],
   "source": [
    "weights"
   ]
  },
  {
   "cell_type": "code",
   "execution_count": 27,
   "metadata": {},
   "outputs": [
    {
     "data": {
      "text/plain": [
       "array([0.2 , 0.25, 0.45, 0.05, 0.05])"
      ]
     },
     "execution_count": 27,
     "metadata": {},
     "output_type": "execute_result"
    }
   ],
   "source": [
    "weights.transpose()"
   ]
  },
  {
   "cell_type": "code",
   "execution_count": 28,
   "metadata": {},
   "outputs": [
    {
     "data": {
      "text/plain": [
       "0.1145592003878631"
      ]
     },
     "execution_count": 28,
     "metadata": {},
     "output_type": "execute_result"
    }
   ],
   "source": [
    "np.matmul(np.matmul(weights,variance_covariance_matrix.to_numpy()),weights)"
   ]
  },
  {
   "cell_type": "code",
   "execution_count": 29,
   "metadata": {},
   "outputs": [],
   "source": [
    "def portfolio_variance(asset_names,asset_weights):\n",
    "    asset_weights = np.array(asset_weights)\n",
    "    var_mat = variance_covariance_matrix.loc[asset_names,asset_names].to_numpy()\n",
    "    var = np.matmul(np.matmul(asset_weights,var_mat),asset_weights.T)\n",
    "    print(f'Variance: {var}')\n"
   ]
  },
  {
   "cell_type": "code",
   "execution_count": 30,
   "metadata": {},
   "outputs": [],
   "source": [
    "# Vodacom Excess\tAnglo American Excess\tKUMBA Excess\tABSA Excess\tWoolworths Excess"
   ]
  },
  {
   "cell_type": "code",
   "execution_count": 31,
   "metadata": {},
   "outputs": [
    {
     "name": "stdout",
     "output_type": "stream",
     "text": [
      "Variance: 0.1145592003878631\n"
     ]
    }
   ],
   "source": [
    "portfolio_variance(asset_names=variance_covariance_matrix.columns,asset_weights=weights)"
   ]
  },
  {
   "cell_type": "code",
   "execution_count": 32,
   "metadata": {},
   "outputs": [
    {
     "name": "stdout",
     "output_type": "stream",
     "text": [
      "Variance: 0.0003462876162892855\n"
     ]
    }
   ],
   "source": [
    "portfolio_variance(asset_names=['ABSA Excess','KUMBA Excess'],asset_weights=[0.6,0.4])"
   ]
  },
  {
   "cell_type": "code",
   "execution_count": 33,
   "metadata": {},
   "outputs": [
    {
     "name": "stdout",
     "output_type": "stream",
     "text": [
      "Variance: 0.00015712833598748152\n"
     ]
    }
   ],
   "source": [
    "portfolio_variance(asset_names=['Vodacom Excess','KUMBA Excess','Woolworths Excess'],asset_weights=[0.3,0.3,0.4])"
   ]
  },
  {
   "cell_type": "code",
   "execution_count": 34,
   "metadata": {},
   "outputs": [
    {
     "name": "stdout",
     "output_type": "stream",
     "text": [
      "Variance: 0.4567868723082937\n"
     ]
    }
   ],
   "source": [
    "portfolio_variance(asset_names=['ABSA Excess','Vodacom Excess','Anglo American Excess'],asset_weights=[0.25,0.25,0.5])"
   ]
  },
  {
   "cell_type": "code",
   "execution_count": 35,
   "metadata": {},
   "outputs": [
    {
     "name": "stdout",
     "output_type": "stream",
     "text": [
      "Variance: 0.04140633865857087\n"
     ]
    }
   ],
   "source": [
    "portfolio_variance(asset_names=['Anglo American Excess','KUMBA Excess','ABSA Excess','Vodacom Excess'],asset_weights=[0.15,0.3,0.35,0.2])"
   ]
  },
  {
   "cell_type": "code",
   "execution_count": 36,
   "metadata": {},
   "outputs": [],
   "source": [
    "#Q1"
   ]
  },
  {
   "cell_type": "code",
   "execution_count": 37,
   "metadata": {},
   "outputs": [
    {
     "data": {
      "text/plain": [
       "Index(['Date', 'Vodacom', 'Anglo American', 'KUMBA', 'ABSA', 'Woolworths',\n",
       "       'ALSE (benchmark)', 'Risk- Free-Rate ', 'Vodacom Return',\n",
       "       'Anglo American Return', 'KUMBA Return', 'ABSA Return',\n",
       "       'Woolworths Return', 'Excess Market Return', 'Excess Vodacom',\n",
       "       'Excess Anglo American', 'Excess KUMBA', 'Excess ABSA',\n",
       "       'Excess Woolworths'],\n",
       "      dtype='object')"
      ]
     },
     "execution_count": 37,
     "metadata": {},
     "output_type": "execute_result"
    }
   ],
   "source": [
    "df.columns"
   ]
  },
  {
   "cell_type": "code",
   "execution_count": 62,
   "metadata": {},
   "outputs": [],
   "source": [
    "def emh_test(timeseries):\n",
    "    pval = adfuller(timeseries,regression='c')[1]\n",
    "    if pval <= 0.05:\n",
    "        print(f'With a p-value of {np.round(pval,5)}, we can reject the null hypothesis.\\n{timeseries.name} does not follow a random walk\\n')\n",
    "    else:\n",
    "        print(f'With a p-value of {np.round(pval,5)}, we fail to reject the null hypothesis.\\n{timeseries.name} follows a random walk\\n')"
   ]
  },
  {
   "cell_type": "code",
   "execution_count": 63,
   "metadata": {},
   "outputs": [
    {
     "name": "stdout",
     "output_type": "stream",
     "text": [
      "With a p-value of 0.50787, we fail to reject the null hypothesis.\n",
      "Vodacom follows a random walk\n",
      "\n",
      "With a p-value of 0.37853, we fail to reject the null hypothesis.\n",
      "Anglo American follows a random walk\n",
      "\n",
      "With a p-value of 0.37645, we fail to reject the null hypothesis.\n",
      "KUMBA follows a random walk\n",
      "\n",
      "With a p-value of 0.08644, we fail to reject the null hypothesis.\n",
      "ABSA follows a random walk\n",
      "\n",
      "With a p-value of 0.2675, we fail to reject the null hypothesis.\n",
      "Woolworths follows a random walk\n",
      "\n"
     ]
    }
   ],
   "source": [
    "for stock in stocks:\n",
    "    emh_test(df[stock])"
   ]
  },
  {
   "cell_type": "code",
   "execution_count": 61,
   "metadata": {},
   "outputs": [
    {
     "name": "stdout",
     "output_type": "stream",
     "text": [
      "With a p-value of 0.37853, we can reject the null hypothesis.\n",
      "Anglo American does not follow a random walk\n",
      "\n"
     ]
    }
   ],
   "source": [
    "emh_test(df['Anglo American'])"
   ]
  },
  {
   "cell_type": "code",
   "execution_count": 66,
   "metadata": {},
   "outputs": [
    {
     "data": {
      "text/html": [
       "<div>\n",
       "<style scoped>\n",
       "    .dataframe tbody tr th:only-of-type {\n",
       "        vertical-align: middle;\n",
       "    }\n",
       "\n",
       "    .dataframe tbody tr th {\n",
       "        vertical-align: top;\n",
       "    }\n",
       "\n",
       "    .dataframe thead th {\n",
       "        text-align: right;\n",
       "    }\n",
       "</style>\n",
       "<table border=\"1\" class=\"dataframe\">\n",
       "  <thead>\n",
       "    <tr style=\"text-align: right;\">\n",
       "      <th></th>\n",
       "      <th>Date</th>\n",
       "      <th>Vodacom</th>\n",
       "      <th>Anglo American</th>\n",
       "      <th>KUMBA</th>\n",
       "      <th>ABSA</th>\n",
       "      <th>Woolworths</th>\n",
       "      <th>ALSE (benchmark)</th>\n",
       "      <th>Risk- Free-Rate</th>\n",
       "      <th>Vodacom Return</th>\n",
       "      <th>Anglo American Return</th>\n",
       "      <th>KUMBA Return</th>\n",
       "      <th>ABSA Return</th>\n",
       "      <th>Woolworths Return</th>\n",
       "      <th>Excess Market Return</th>\n",
       "      <th>Excess Vodacom</th>\n",
       "      <th>Excess Anglo American</th>\n",
       "      <th>Excess KUMBA</th>\n",
       "      <th>Excess ABSA</th>\n",
       "      <th>Excess Woolworths</th>\n",
       "    </tr>\n",
       "  </thead>\n",
       "  <tbody>\n",
       "    <tr>\n",
       "      <th>0</th>\n",
       "      <td>2007-01-03</td>\n",
       "      <td>28.797146</td>\n",
       "      <td>2805.500000</td>\n",
       "      <td>11899.0</td>\n",
       "      <td>12700.0</td>\n",
       "      <td>23.501499</td>\n",
       "      <td>4.817180</td>\n",
       "      <td>0.185</td>\n",
       "      <td>NaN</td>\n",
       "      <td>NaN</td>\n",
       "      <td>NaN</td>\n",
       "      <td>NaN</td>\n",
       "      <td>NaN</td>\n",
       "      <td>NaN</td>\n",
       "      <td>NaN</td>\n",
       "      <td>NaN</td>\n",
       "      <td>NaN</td>\n",
       "      <td>NaN</td>\n",
       "      <td>NaN</td>\n",
       "    </tr>\n",
       "    <tr>\n",
       "      <th>1</th>\n",
       "      <td>2007-01-04</td>\n",
       "      <td>28.786953</td>\n",
       "      <td>2701.100098</td>\n",
       "      <td>11399.0</td>\n",
       "      <td>12600.0</td>\n",
       "      <td>23.214399</td>\n",
       "      <td>4.715587</td>\n",
       "      <td>0.190</td>\n",
       "      <td>-0.000354</td>\n",
       "      <td>-0.037213</td>\n",
       "      <td>-0.042020</td>\n",
       "      <td>-0.007874</td>\n",
       "      <td>-0.012216</td>\n",
       "      <td>4.525587</td>\n",
       "      <td>-0.190354</td>\n",
       "      <td>-0.227213</td>\n",
       "      <td>-0.232020</td>\n",
       "      <td>-0.197874</td>\n",
       "      <td>-0.202216</td>\n",
       "    </tr>\n",
       "    <tr>\n",
       "      <th>2</th>\n",
       "      <td>2007-01-05</td>\n",
       "      <td>29.510704</td>\n",
       "      <td>2637.360107</td>\n",
       "      <td>11300.0</td>\n",
       "      <td>12286.0</td>\n",
       "      <td>23.006500</td>\n",
       "      <td>4.774849</td>\n",
       "      <td>0.180</td>\n",
       "      <td>0.025142</td>\n",
       "      <td>-0.023598</td>\n",
       "      <td>-0.008685</td>\n",
       "      <td>-0.024921</td>\n",
       "      <td>-0.008956</td>\n",
       "      <td>4.594849</td>\n",
       "      <td>-0.154858</td>\n",
       "      <td>-0.203598</td>\n",
       "      <td>-0.188685</td>\n",
       "      <td>-0.204921</td>\n",
       "      <td>-0.188956</td>\n",
       "    </tr>\n",
       "    <tr>\n",
       "      <th>3</th>\n",
       "      <td>2007-01-08</td>\n",
       "      <td>28.725790</td>\n",
       "      <td>2560.439941</td>\n",
       "      <td>11000.0</td>\n",
       "      <td>12370.0</td>\n",
       "      <td>23.214399</td>\n",
       "      <td>4.825645</td>\n",
       "      <td>0.175</td>\n",
       "      <td>-0.026598</td>\n",
       "      <td>-0.029166</td>\n",
       "      <td>-0.026549</td>\n",
       "      <td>0.006837</td>\n",
       "      <td>0.009037</td>\n",
       "      <td>4.650645</td>\n",
       "      <td>-0.201598</td>\n",
       "      <td>-0.204166</td>\n",
       "      <td>-0.201549</td>\n",
       "      <td>-0.168163</td>\n",
       "      <td>-0.165963</td>\n",
       "    </tr>\n",
       "    <tr>\n",
       "      <th>4</th>\n",
       "      <td>2007-01-09</td>\n",
       "      <td>29.194698</td>\n",
       "      <td>2602.199951</td>\n",
       "      <td>11090.0</td>\n",
       "      <td>12170.0</td>\n",
       "      <td>22.580799</td>\n",
       "      <td>4.808713</td>\n",
       "      <td>0.000</td>\n",
       "      <td>0.016324</td>\n",
       "      <td>0.016310</td>\n",
       "      <td>0.008182</td>\n",
       "      <td>-0.016168</td>\n",
       "      <td>-0.027293</td>\n",
       "      <td>4.808713</td>\n",
       "      <td>0.016324</td>\n",
       "      <td>0.016310</td>\n",
       "      <td>0.008182</td>\n",
       "      <td>-0.016168</td>\n",
       "      <td>-0.027293</td>\n",
       "    </tr>\n",
       "  </tbody>\n",
       "</table>\n",
       "</div>"
      ],
      "text/plain": [
       "        Date    Vodacom  Anglo American    KUMBA     ABSA  Woolworths  \\\n",
       "0 2007-01-03  28.797146     2805.500000  11899.0  12700.0   23.501499   \n",
       "1 2007-01-04  28.786953     2701.100098  11399.0  12600.0   23.214399   \n",
       "2 2007-01-05  29.510704     2637.360107  11300.0  12286.0   23.006500   \n",
       "3 2007-01-08  28.725790     2560.439941  11000.0  12370.0   23.214399   \n",
       "4 2007-01-09  29.194698     2602.199951  11090.0  12170.0   22.580799   \n",
       "\n",
       "   ALSE (benchmark)  Risk- Free-Rate   Vodacom Return  Anglo American Return  \\\n",
       "0          4.817180             0.185             NaN                    NaN   \n",
       "1          4.715587             0.190       -0.000354              -0.037213   \n",
       "2          4.774849             0.180        0.025142              -0.023598   \n",
       "3          4.825645             0.175       -0.026598              -0.029166   \n",
       "4          4.808713             0.000        0.016324               0.016310   \n",
       "\n",
       "   KUMBA Return  ABSA Return  Woolworths Return  Excess Market Return  \\\n",
       "0           NaN          NaN                NaN                   NaN   \n",
       "1     -0.042020    -0.007874          -0.012216              4.525587   \n",
       "2     -0.008685    -0.024921          -0.008956              4.594849   \n",
       "3     -0.026549     0.006837           0.009037              4.650645   \n",
       "4      0.008182    -0.016168          -0.027293              4.808713   \n",
       "\n",
       "   Excess Vodacom  Excess Anglo American  Excess KUMBA  Excess ABSA  \\\n",
       "0             NaN                    NaN           NaN          NaN   \n",
       "1       -0.190354              -0.227213     -0.232020    -0.197874   \n",
       "2       -0.154858              -0.203598     -0.188685    -0.204921   \n",
       "3       -0.201598              -0.204166     -0.201549    -0.168163   \n",
       "4        0.016324               0.016310      0.008182    -0.016168   \n",
       "\n",
       "   Excess Woolworths  \n",
       "0                NaN  \n",
       "1          -0.202216  \n",
       "2          -0.188956  \n",
       "3          -0.165963  \n",
       "4          -0.027293  "
      ]
     },
     "execution_count": 66,
     "metadata": {},
     "output_type": "execute_result"
    }
   ],
   "source": [
    "df.head()"
   ]
  },
  {
   "cell_type": "code",
   "execution_count": 65,
   "metadata": {},
   "outputs": [],
   "source": [
    "reg_df = pd.DataFrame()"
   ]
  },
  {
   "cell_type": "code",
   "execution_count": 67,
   "metadata": {},
   "outputs": [],
   "source": [
    "y = df['Excess Vodacom']\n",
    "X = df['Excess Market Return']\n",
    "X = sm.add_constant(X)"
   ]
  },
  {
   "cell_type": "code",
   "execution_count": 68,
   "metadata": {},
   "outputs": [],
   "source": [
    "model = sm.OLS(y,X,missing='drop')\n",
    "results = model.fit()"
   ]
  },
  {
   "cell_type": "code",
   "execution_count": 69,
   "metadata": {},
   "outputs": [
    {
     "data": {
      "text/html": [
       "<table class=\"simpletable\">\n",
       "<caption>OLS Regression Results</caption>\n",
       "<tr>\n",
       "  <th>Dep. Variable:</th>     <td>Excess Vodacom</td>  <th>  R-squared:         </th> <td>   0.195</td> \n",
       "</tr>\n",
       "<tr>\n",
       "  <th>Model:</th>                   <td>OLS</td>       <th>  Adj. R-squared:    </th> <td>   0.195</td> \n",
       "</tr>\n",
       "<tr>\n",
       "  <th>Method:</th>             <td>Least Squares</td>  <th>  F-statistic:       </th> <td>   811.8</td> \n",
       "</tr>\n",
       "<tr>\n",
       "  <th>Date:</th>             <td>Tue, 25 Oct 2022</td> <th>  Prob (F-statistic):</th> <td>4.46e-160</td>\n",
       "</tr>\n",
       "<tr>\n",
       "  <th>Time:</th>                 <td>07:03:46</td>     <th>  Log-Likelihood:    </th> <td> -3272.1</td> \n",
       "</tr>\n",
       "<tr>\n",
       "  <th>No. Observations:</th>      <td>  3352</td>      <th>  AIC:               </th> <td>   6548.</td> \n",
       "</tr>\n",
       "<tr>\n",
       "  <th>Df Residuals:</th>          <td>  3350</td>      <th>  BIC:               </th> <td>   6560.</td> \n",
       "</tr>\n",
       "<tr>\n",
       "  <th>Df Model:</th>              <td>     1</td>      <th>                     </th>     <td> </td>    \n",
       "</tr>\n",
       "<tr>\n",
       "  <th>Covariance Type:</th>      <td>nonrobust</td>    <th>                     </th>     <td> </td>    \n",
       "</tr>\n",
       "</table>\n",
       "<table class=\"simpletable\">\n",
       "<tr>\n",
       "            <td></td>              <th>coef</th>     <th>std err</th>      <th>t</th>      <th>P>|t|</th>  <th>[0.025</th>    <th>0.975]</th>  \n",
       "</tr>\n",
       "<tr>\n",
       "  <th>const</th>                <td>   -1.5497</td> <td>    0.041</td> <td>  -38.205</td> <td> 0.000</td> <td>   -1.629</td> <td>   -1.470</td>\n",
       "</tr>\n",
       "<tr>\n",
       "  <th>Excess Market Return</th> <td>    0.2488</td> <td>    0.009</td> <td>   28.492</td> <td> 0.000</td> <td>    0.232</td> <td>    0.266</td>\n",
       "</tr>\n",
       "</table>\n",
       "<table class=\"simpletable\">\n",
       "<tr>\n",
       "  <th>Omnibus:</th>       <td>338.016</td> <th>  Durbin-Watson:     </th> <td>   0.414</td>\n",
       "</tr>\n",
       "<tr>\n",
       "  <th>Prob(Omnibus):</th> <td> 0.000</td>  <th>  Jarque-Bera (JB):  </th> <td> 449.472</td>\n",
       "</tr>\n",
       "<tr>\n",
       "  <th>Skew:</th>          <td>-0.896</td>  <th>  Prob(JB):          </th> <td>2.50e-98</td>\n",
       "</tr>\n",
       "<tr>\n",
       "  <th>Kurtosis:</th>      <td> 2.920</td>  <th>  Cond. No.          </th> <td>    17.7</td>\n",
       "</tr>\n",
       "</table><br/><br/>Notes:<br/>[1] Standard Errors assume that the covariance matrix of the errors is correctly specified."
      ],
      "text/plain": [
       "<class 'statsmodels.iolib.summary.Summary'>\n",
       "\"\"\"\n",
       "                            OLS Regression Results                            \n",
       "==============================================================================\n",
       "Dep. Variable:         Excess Vodacom   R-squared:                       0.195\n",
       "Model:                            OLS   Adj. R-squared:                  0.195\n",
       "Method:                 Least Squares   F-statistic:                     811.8\n",
       "Date:                Tue, 25 Oct 2022   Prob (F-statistic):          4.46e-160\n",
       "Time:                        07:03:46   Log-Likelihood:                -3272.1\n",
       "No. Observations:                3352   AIC:                             6548.\n",
       "Df Residuals:                    3350   BIC:                             6560.\n",
       "Df Model:                           1                                         \n",
       "Covariance Type:            nonrobust                                         \n",
       "========================================================================================\n",
       "                           coef    std err          t      P>|t|      [0.025      0.975]\n",
       "----------------------------------------------------------------------------------------\n",
       "const                   -1.5497      0.041    -38.205      0.000      -1.629      -1.470\n",
       "Excess Market Return     0.2488      0.009     28.492      0.000       0.232       0.266\n",
       "==============================================================================\n",
       "Omnibus:                      338.016   Durbin-Watson:                   0.414\n",
       "Prob(Omnibus):                  0.000   Jarque-Bera (JB):              449.472\n",
       "Skew:                          -0.896   Prob(JB):                     2.50e-98\n",
       "Kurtosis:                       2.920   Cond. No.                         17.7\n",
       "==============================================================================\n",
       "\n",
       "Notes:\n",
       "[1] Standard Errors assume that the covariance matrix of the errors is correctly specified.\n",
       "\"\"\""
      ]
     },
     "execution_count": 69,
     "metadata": {},
     "output_type": "execute_result"
    }
   ],
   "source": [
    "results.summary()"
   ]
  },
  {
   "cell_type": "code",
   "execution_count": 74,
   "metadata": {},
   "outputs": [
    {
     "data": {
      "text/plain": [
       "2.0346111581620485e-265"
      ]
     },
     "execution_count": 74,
     "metadata": {},
     "output_type": "execute_result"
    }
   ],
   "source": [
    "results.pvalues['const']"
   ]
  },
  {
   "cell_type": "code",
   "execution_count": 78,
   "metadata": {},
   "outputs": [
    {
     "data": {
      "text/plain": [
       "-1.5497061868358024"
      ]
     },
     "execution_count": 78,
     "metadata": {},
     "output_type": "execute_result"
    }
   ],
   "source": [
    "results.params['const']"
   ]
  },
  {
   "cell_type": "code",
   "execution_count": 86,
   "metadata": {},
   "outputs": [],
   "source": [
    "def capm_alpha_significance(dataset,stock):\n",
    "    y = dataset[f'Excess {stock}']\n",
    "    X = dataset[f'Excess Market Return']\n",
    "    X = sm.add_constant(X)\n",
    "\n",
    "    model = sm.OLS(y,X,missing='drop')\n",
    "    results = model.fit()\n",
    "\n",
    "    const_pvalue = results.pvalues['const']\n",
    "    const_coeff = results.params['const']\n",
    "\n",
    "    if const_pvalue <= 0.05 and const_coeff < 0:\n",
    "        print(f'Alpha is significant, however it is negative, therefore abnormal profits are not possible. EMH for {stock} holds.\\n')\n",
    "    elif const_pvalue <= 0.05 and const_coeff < 0:\n",
    "        print(f'Alpha is positive and signifianct, therefore abnormal profits are possible. EMH for {stock} does not hold.\\n')\n",
    "    else:\n",
    "        print(f'Alpha is insignificant. EMH for {stock} holds.\\n')\n",
    "    pass"
   ]
  },
  {
   "cell_type": "code",
   "execution_count": 87,
   "metadata": {},
   "outputs": [
    {
     "name": "stdout",
     "output_type": "stream",
     "text": [
      "Alpha is significant, however it is negative, therefore abnormal profits are not possible. EMH for Vodacom holds.\n",
      "\n",
      "Alpha is significant, however it is negative, therefore abnormal profits are not possible. EMH for Anglo American holds.\n",
      "\n",
      "Alpha is significant, however it is negative, therefore abnormal profits are not possible. EMH for KUMBA holds.\n",
      "\n",
      "Alpha is significant, however it is negative, therefore abnormal profits are not possible. EMH for ABSA holds.\n",
      "\n",
      "Alpha is significant, however it is negative, therefore abnormal profits are not possible. EMH for Woolworths holds.\n",
      "\n"
     ]
    }
   ],
   "source": [
    "for stock in stocks:\n",
    "    capm_alpha_significance(df,stock=stock)"
   ]
  },
  {
   "cell_type": "code",
   "execution_count": null,
   "metadata": {},
   "outputs": [],
   "source": []
  }
 ],
 "metadata": {
  "kernelspec": {
   "display_name": "Python 3.8.13 ('base')",
   "language": "python",
   "name": "python3"
  },
  "language_info": {
   "codemirror_mode": {
    "name": "ipython",
    "version": 3
   },
   "file_extension": ".py",
   "mimetype": "text/x-python",
   "name": "python",
   "nbconvert_exporter": "python",
   "pygments_lexer": "ipython3",
   "version": "3.8.13"
  },
  "orig_nbformat": 4,
  "vscode": {
   "interpreter": {
    "hash": "fc56f9a4ecd58dcd1ada9a2448ec5f75d7a1aaa15329482faa6213ab95199a9c"
   }
  }
 },
 "nbformat": 4,
 "nbformat_minor": 2
}
