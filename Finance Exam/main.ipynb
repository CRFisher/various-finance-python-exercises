{
 "cells": [
  {
   "cell_type": "markdown",
   "metadata": {},
   "source": [
    "## Question 1\n",
    "\n",
    "Using all 5 stocks, assess if the efficient market hypothesis holds by making use of the random walk with a drift method.\n",
    "\n",
    "## Question 2\n",
    "\n",
    "Using the same data, calibrate the capital asset pricing (CAPM) model in each stock. Assess whether the efficient market hypothesis holds.\n",
    "\n",
    "## Question 3\n",
    "\n",
    "Compute the expected return of a portfolio, assuming these weights \n",
    "* 2 assets (Absa and Kumba)  (Weights 60%, 40%)\n",
    "* 3 assets (Vodacom, Kumba and Woolworths) (Weights 30%, 30% and 40%)\n",
    "* 3 assets (Absa, Vodacom Anglo American)   (Weights 25%, 25% and 50%)\n",
    "* 4 assets (Anglo American, Kumba, Absa, and Vodacom) (Weights 15%, 30%, 35% and 20%)\n",
    "* 5 assets (all 5 assets) (Weight 20%, 25%, 45%, 5% and 5%)\n",
    "\n",
    "## Question 4\n",
    "\n",
    "Compute the variance of a portfolio of\n",
    "* 2 assets (Absa and Kumba)  (Weights 60%, 40%)\n",
    "* 3 assets (Vodacom, Kumba and Woolworths) (Weights 30%, 30% and 40%)\n",
    "* 3 assets (Absa, Vodacom Anglo American)   (Weights 25%, 25% and 50%)\n",
    "* 4 assets (Anglo American, Kumba, Absa, and Vodacom) (Weights 15%, 30%, 35% and 20%)\n",
    "* 5 assets (all 5 assets) (Weight 20%, 25%, 45%, 5% and 5%)\n"
   ]
  },
  {
   "cell_type": "code",
   "execution_count": 29,
   "metadata": {},
   "outputs": [],
   "source": [
    "# Imports\n",
    "import numpy as np\n",
    "import pandas as pd\n",
    "import matplotlib.pyplot as plt\n",
    "import seaborn as sns\n",
    "\n",
    "from statsmodels.tsa.stattools import adfuller\n",
    "import statsmodels.api as sm"
   ]
  },
  {
   "cell_type": "code",
   "execution_count": 30,
   "metadata": {},
   "outputs": [],
   "source": [
    "# Read in data\n",
    "df = pd.read_csv('Data/Finance_Exam_Data.csv')\n",
    "df['Date'] = pd.to_datetime(df['Date'])\n",
    "df['Risk- Free-Rate '] = df['Risk- Free-Rate '].fillna(0)\n",
    "stocks = ['Vodacom','Anglo American','KUMBA','ABSA','Woolworths']\n"
   ]
  },
  {
   "cell_type": "code",
   "execution_count": 31,
   "metadata": {},
   "outputs": [
    {
     "data": {
      "text/html": [
       "<div>\n",
       "<style scoped>\n",
       "    .dataframe tbody tr th:only-of-type {\n",
       "        vertical-align: middle;\n",
       "    }\n",
       "\n",
       "    .dataframe tbody tr th {\n",
       "        vertical-align: top;\n",
       "    }\n",
       "\n",
       "    .dataframe thead th {\n",
       "        text-align: right;\n",
       "    }\n",
       "</style>\n",
       "<table border=\"1\" class=\"dataframe\">\n",
       "  <thead>\n",
       "    <tr style=\"text-align: right;\">\n",
       "      <th></th>\n",
       "      <th>Date</th>\n",
       "      <th>Vodacom</th>\n",
       "      <th>Anglo American</th>\n",
       "      <th>KUMBA</th>\n",
       "      <th>ABSA</th>\n",
       "      <th>Woolworths</th>\n",
       "      <th>ALSE (benchmark)</th>\n",
       "      <th>Risk- Free-Rate</th>\n",
       "    </tr>\n",
       "  </thead>\n",
       "  <tbody>\n",
       "    <tr>\n",
       "      <th>0</th>\n",
       "      <td>2007-01-03</td>\n",
       "      <td>28.797146</td>\n",
       "      <td>2805.500000</td>\n",
       "      <td>11899.0</td>\n",
       "      <td>12700.0</td>\n",
       "      <td>23.501499</td>\n",
       "      <td>4.817180</td>\n",
       "      <td>0.185</td>\n",
       "    </tr>\n",
       "    <tr>\n",
       "      <th>1</th>\n",
       "      <td>2007-01-04</td>\n",
       "      <td>28.786953</td>\n",
       "      <td>2701.100098</td>\n",
       "      <td>11399.0</td>\n",
       "      <td>12600.0</td>\n",
       "      <td>23.214399</td>\n",
       "      <td>4.715587</td>\n",
       "      <td>0.190</td>\n",
       "    </tr>\n",
       "    <tr>\n",
       "      <th>2</th>\n",
       "      <td>2007-01-05</td>\n",
       "      <td>29.510704</td>\n",
       "      <td>2637.360107</td>\n",
       "      <td>11300.0</td>\n",
       "      <td>12286.0</td>\n",
       "      <td>23.006500</td>\n",
       "      <td>4.774849</td>\n",
       "      <td>0.180</td>\n",
       "    </tr>\n",
       "    <tr>\n",
       "      <th>3</th>\n",
       "      <td>2007-01-08</td>\n",
       "      <td>28.725790</td>\n",
       "      <td>2560.439941</td>\n",
       "      <td>11000.0</td>\n",
       "      <td>12370.0</td>\n",
       "      <td>23.214399</td>\n",
       "      <td>4.825645</td>\n",
       "      <td>0.175</td>\n",
       "    </tr>\n",
       "    <tr>\n",
       "      <th>4</th>\n",
       "      <td>2007-01-09</td>\n",
       "      <td>29.194698</td>\n",
       "      <td>2602.199951</td>\n",
       "      <td>11090.0</td>\n",
       "      <td>12170.0</td>\n",
       "      <td>22.580799</td>\n",
       "      <td>4.808713</td>\n",
       "      <td>0.000</td>\n",
       "    </tr>\n",
       "  </tbody>\n",
       "</table>\n",
       "</div>"
      ],
      "text/plain": [
       "        Date    Vodacom  Anglo American    KUMBA     ABSA  Woolworths  \\\n",
       "0 2007-01-03  28.797146     2805.500000  11899.0  12700.0   23.501499   \n",
       "1 2007-01-04  28.786953     2701.100098  11399.0  12600.0   23.214399   \n",
       "2 2007-01-05  29.510704     2637.360107  11300.0  12286.0   23.006500   \n",
       "3 2007-01-08  28.725790     2560.439941  11000.0  12370.0   23.214399   \n",
       "4 2007-01-09  29.194698     2602.199951  11090.0  12170.0   22.580799   \n",
       "\n",
       "   ALSE (benchmark)  Risk- Free-Rate   \n",
       "0          4.817180             0.185  \n",
       "1          4.715587             0.190  \n",
       "2          4.774849             0.180  \n",
       "3          4.825645             0.175  \n",
       "4          4.808713             0.000  "
      ]
     },
     "execution_count": 31,
     "metadata": {},
     "output_type": "execute_result"
    }
   ],
   "source": [
    "df.head()"
   ]
  },
  {
   "cell_type": "code",
   "execution_count": 32,
   "metadata": {},
   "outputs": [
    {
     "name": "stdout",
     "output_type": "stream",
     "text": [
      "<class 'pandas.core.frame.DataFrame'>\n",
      "RangeIndex: 3353 entries, 0 to 3352\n",
      "Data columns (total 8 columns):\n",
      " #   Column            Non-Null Count  Dtype         \n",
      "---  ------            --------------  -----         \n",
      " 0   Date              3353 non-null   datetime64[ns]\n",
      " 1   Vodacom           3353 non-null   float64       \n",
      " 2   Anglo American    3353 non-null   float64       \n",
      " 3   KUMBA             3353 non-null   float64       \n",
      " 4   ABSA              3353 non-null   float64       \n",
      " 5   Woolworths        3353 non-null   float64       \n",
      " 6   ALSE (benchmark)  3353 non-null   float64       \n",
      " 7   Risk- Free-Rate   3353 non-null   float64       \n",
      "dtypes: datetime64[ns](1), float64(7)\n",
      "memory usage: 209.7 KB\n"
     ]
    }
   ],
   "source": [
    "df.info()"
   ]
  },
  {
   "cell_type": "markdown",
   "metadata": {},
   "source": [
    "## Question 1"
   ]
  },
  {
   "cell_type": "code",
   "execution_count": 33,
   "metadata": {},
   "outputs": [
    {
     "name": "stdout",
     "output_type": "stream",
     "text": [
      "With a p-value of 0.50787, we fail to reject the null hypothesis.\n",
      "Vodacom follows a random walk\n",
      "\n",
      "With a p-value of 0.37853, we fail to reject the null hypothesis.\n",
      "Anglo American follows a random walk\n",
      "\n",
      "With a p-value of 0.37645, we fail to reject the null hypothesis.\n",
      "KUMBA follows a random walk\n",
      "\n",
      "With a p-value of 0.08644, we fail to reject the null hypothesis.\n",
      "ABSA follows a random walk\n",
      "\n",
      "With a p-value of 0.2675, we fail to reject the null hypothesis.\n",
      "Woolworths follows a random walk\n",
      "\n"
     ]
    }
   ],
   "source": [
    "# Function that takes in a timeseries (stock prices) and uses the Agumented Dickey-Fuller test to determine if the stock follows a random walk.\n",
    "def emh_adf_test(timeseries):\n",
    "    pval = adfuller(timeseries,regression='c')[1]\n",
    "    if pval <= 0.05:\n",
    "        print(f'With a p-value of {np.round(pval,5)}, we can reject the null hypothesis.\\n{timeseries.name} does not follow a random walk\\n')\n",
    "    else:\n",
    "        print(f'With a p-value of {np.round(pval,5)}, we fail to reject the null hypothesis.\\n{timeseries.name} follows a random walk\\n')\n",
    "\n",
    "for stock in stocks:\n",
    "    emh_adf_test(df[stock])"
   ]
  },
  {
   "cell_type": "code",
   "execution_count": 34,
   "metadata": {},
   "outputs": [
    {
     "name": "stderr",
     "output_type": "stream",
     "text": [
      "C:\\Users\\clint\\AppData\\Local\\Temp\\ipykernel_16480\\2302573555.py:7: SettingWithCopyWarning: \n",
      "A value is trying to be set on a copy of a slice from a DataFrame\n",
      "\n",
      "See the caveats in the documentation: https://pandas.pydata.org/pandas-docs/stable/user_guide/indexing.html#returning-a-view-versus-a-copy\n",
      "  df['Excess Market Return'].iloc[0] = np.nan\n"
     ]
    }
   ],
   "source": [
    "# Calculates the return for each stock, and adds those returns to the dataframe.\n",
    "for stock in stocks:\n",
    "    df[f'{stock} Return'] = df[stock].pct_change(periods=1)\n",
    "    \n",
    "# Calculates the excess market return rate\n",
    "df['Excess Market Return'] = df['ALSE (benchmark)'] - df['Risk- Free-Rate ']\n",
    "df['Excess Market Return'].iloc[0] = np.nan\n",
    "\n",
    "# Calculates the excess return for each stock\n",
    "for stock in stocks:\n",
    "    df[f'Excess {stock}'] = df[f'{stock} Return'] - df['Risk- Free-Rate ']"
   ]
  },
  {
   "cell_type": "markdown",
   "metadata": {},
   "source": [
    "## Question 2"
   ]
  },
  {
   "cell_type": "code",
   "execution_count": 53,
   "metadata": {},
   "outputs": [
    {
     "name": "stdout",
     "output_type": "stream",
     "text": [
      "Alpha is significant (p-value: 0.0), however it is negative (alpha: -1.5497), therefore abnormal profits are not possible. EMH for Vodacom holds.\n",
      "\n",
      "Alpha is significant (p-value: 0.0), however it is negative (alpha: -1.4973), therefore abnormal profits are not possible. EMH for Anglo American holds.\n",
      "\n",
      "Alpha is significant (p-value: 0.0), however it is negative (alpha: -1.546), therefore abnormal profits are not possible. EMH for KUMBA holds.\n",
      "\n",
      "Alpha is significant (p-value: 0.0), however it is negative (alpha: -1.5492), therefore abnormal profits are not possible. EMH for ABSA holds.\n",
      "\n",
      "Alpha is significant (p-value: 0.0), however it is negative (alpha: -1.5477), therefore abnormal profits are not possible. EMH for Woolworths holds.\n",
      "\n"
     ]
    }
   ],
   "source": [
    "# Function that takes in a dataframe, and list of stock names, and uses the capital asset pricing model to determine each stock's alpha.\n",
    "# The alpha will give info on whether abnormal profits are possible.\n",
    "\n",
    "def capm_alpha_significance(dataset,stock):\n",
    "    # Create independent and dependent variables for the model\n",
    "    y = dataset[f'Excess {stock}']\n",
    "    X = dataset[f'Excess Market Return']\n",
    "    X = sm.add_constant(X)\n",
    "\n",
    "    # Create the model\n",
    "    model = sm.OLS(y,X,missing='drop')\n",
    "    results = model.fit()\n",
    "\n",
    "    # Store the value of alpha and it's p-value \n",
    "    const_pvalue = results.pvalues['const']\n",
    "    const_coeff = results.params['const']\n",
    "\n",
    "    # Checks if alpha is significant and if it is negative\n",
    "    if const_pvalue <= 0.05 and const_coeff < 0:\n",
    "        print(f'Alpha is significant (p-value: {np.round(const_pvalue,4)}), however it is negative (alpha: {np.round(const_coeff,4)}), therefore abnormal profits are not possible. EMH for {stock} holds.\\n')\n",
    "    \n",
    "    # Checks if alpha is significant and if it is positive\n",
    "    elif const_pvalue <= 0.05 and const_coeff > 0:\n",
    "        print(f'Alpha is positive (alpha: {np.round(const_coeff,4)}) and signifianct (p-value: {np.round(const_pvalue,4)}) , therefore abnormal profits are possible. EMH for {stock} does not hold.\\n')\n",
    "    \n",
    "    # If alpha is insignificant or if it is 0\n",
    "    else:\n",
    "        print(f'Alpha is insignificant (p-value: {np.round(const_pvalue,4)}). EMH for {stock} holds.\\n')\n",
    "    pass\n",
    "\n",
    "# Loop through each stock to determine the alpha\n",
    "for stock in stocks:\n",
    "    capm_alpha_significance(df,stock=stock)"
   ]
  },
  {
   "cell_type": "code",
   "execution_count": 36,
   "metadata": {},
   "outputs": [
    {
     "data": {
      "text/html": [
       "<div>\n",
       "<style scoped>\n",
       "    .dataframe tbody tr th:only-of-type {\n",
       "        vertical-align: middle;\n",
       "    }\n",
       "\n",
       "    .dataframe tbody tr th {\n",
       "        vertical-align: top;\n",
       "    }\n",
       "\n",
       "    .dataframe thead th {\n",
       "        text-align: right;\n",
       "    }\n",
       "</style>\n",
       "<table border=\"1\" class=\"dataframe\">\n",
       "  <thead>\n",
       "    <tr style=\"text-align: right;\">\n",
       "      <th></th>\n",
       "      <th>Vodacom</th>\n",
       "      <th>Anglo American</th>\n",
       "      <th>KUMBA</th>\n",
       "      <th>ABSA</th>\n",
       "      <th>Woolworths</th>\n",
       "    </tr>\n",
       "  </thead>\n",
       "  <tbody>\n",
       "    <tr>\n",
       "      <th>Expected Returns</th>\n",
       "      <td>0.000067</td>\n",
       "      <td>0.023503</td>\n",
       "      <td>0.000797</td>\n",
       "      <td>0.000205</td>\n",
       "      <td>0.00023</td>\n",
       "    </tr>\n",
       "  </tbody>\n",
       "</table>\n",
       "</div>"
      ],
      "text/plain": [
       "                   Vodacom  Anglo American     KUMBA      ABSA  Woolworths\n",
       "Expected Returns  0.000067        0.023503  0.000797  0.000205     0.00023"
      ]
     },
     "execution_count": 36,
     "metadata": {},
     "output_type": "execute_result"
    }
   ],
   "source": [
    "# Take the mean return for each stock and store it in a dictionary\n",
    "expected_returns = {\n",
    "    'Vodacom':df['Vodacom Return'].mean(),\n",
    "    'Anglo American':df['Anglo American Return'].mean(),\n",
    "    'KUMBA':df['KUMBA Return'].mean(),\n",
    "    'ABSA':df['ABSA Return'].mean(),\n",
    "    'Woolworths':df['Woolworths Return'].mean()\n",
    "}\n",
    "\n",
    "# Convert the dictionary to a pandas dataframe\n",
    "expected_returns_df = pd.DataFrame(expected_returns,index=['Expected Returns'])\n",
    "\n",
    "expected_returns_df"
   ]
  },
  {
   "cell_type": "markdown",
   "metadata": {},
   "source": [
    "## Question 3"
   ]
  },
  {
   "cell_type": "code",
   "execution_count": 37,
   "metadata": {},
   "outputs": [],
   "source": [
    "# Function that takes in the expected returns of each stock, and the weights for each stock, in order to calculate that portfolio's expected return\n",
    "def expected_portfolio_return(expected_returns_stocks_df, weights):\n",
    "    # Calculates the sum of the products of a stock's expected return and it's weight in the portfolio\n",
    "    ret = np.dot(expected_returns_stocks_df,weights)*100\n",
    "    print(f'The given stocks and weights has a return of {np.round(ret,4)} percent.')\n"
   ]
  },
  {
   "cell_type": "code",
   "execution_count": 38,
   "metadata": {},
   "outputs": [
    {
     "name": "stdout",
     "output_type": "stream",
     "text": [
      "The given stocks and weights has a return of [0.0442] percent.\n"
     ]
    }
   ],
   "source": [
    "expected_portfolio_return(expected_returns_df[['ABSA','KUMBA']],[0.6,0.4])"
   ]
  },
  {
   "cell_type": "code",
   "execution_count": 39,
   "metadata": {},
   "outputs": [
    {
     "name": "stdout",
     "output_type": "stream",
     "text": [
      "The given stocks and weights has a return of [0.0351] percent.\n"
     ]
    }
   ],
   "source": [
    "expected_portfolio_return(expected_returns_df[['Vodacom','KUMBA','Woolworths']],[0.3,0.3,0.4])"
   ]
  },
  {
   "cell_type": "code",
   "execution_count": 40,
   "metadata": {},
   "outputs": [
    {
     "name": "stdout",
     "output_type": "stream",
     "text": [
      "The given stocks and weights has a return of [1.182] percent.\n"
     ]
    }
   ],
   "source": [
    "expected_portfolio_return(expected_returns_df[['ABSA','Vodacom','Anglo American']],[0.25,0.25,0.5])"
   ]
  },
  {
   "cell_type": "code",
   "execution_count": 41,
   "metadata": {},
   "outputs": [
    {
     "name": "stdout",
     "output_type": "stream",
     "text": [
      "The given stocks and weights has a return of [0.385] percent.\n"
     ]
    }
   ],
   "source": [
    "expected_portfolio_return(expected_returns_df[['Anglo American','KUMBA','ABSA','Vodacom']],[0.15,0.30,0.35,0.20])"
   ]
  },
  {
   "cell_type": "code",
   "execution_count": 42,
   "metadata": {},
   "outputs": [
    {
     "name": "stdout",
     "output_type": "stream",
     "text": [
      "The given stocks and weights has a return of [0.6269] percent.\n"
     ]
    }
   ],
   "source": [
    "expected_portfolio_return(expected_returns_df,[0.2,0.25,0.45,0.05,0.05])"
   ]
  },
  {
   "cell_type": "markdown",
   "metadata": {},
   "source": [
    "## Question 4"
   ]
  },
  {
   "cell_type": "code",
   "execution_count": 43,
   "metadata": {},
   "outputs": [],
   "source": [
    "# Creates an excess retun matrix by subtracting the expected return for the stock from the current return.\n",
    "excess_return_matrix = pd.DataFrame()\n",
    "for stock in stocks:\n",
    "    excess_return_matrix[f'{stock} Excess'] = df[f'{stock} Return'] - expected_returns_df[stock][0]\n",
    "\n",
    "# Creates a variance covariance matrix\n",
    "variance_covariance_matrix = excess_return_matrix.cov()"
   ]
  },
  {
   "cell_type": "code",
   "execution_count": 44,
   "metadata": {},
   "outputs": [
    {
     "data": {
      "text/html": [
       "<div>\n",
       "<style scoped>\n",
       "    .dataframe tbody tr th:only-of-type {\n",
       "        vertical-align: middle;\n",
       "    }\n",
       "\n",
       "    .dataframe tbody tr th {\n",
       "        vertical-align: top;\n",
       "    }\n",
       "\n",
       "    .dataframe thead th {\n",
       "        text-align: right;\n",
       "    }\n",
       "</style>\n",
       "<table border=\"1\" class=\"dataframe\">\n",
       "  <thead>\n",
       "    <tr style=\"text-align: right;\">\n",
       "      <th></th>\n",
       "      <th>Vodacom Excess</th>\n",
       "      <th>Anglo American Excess</th>\n",
       "      <th>KUMBA Excess</th>\n",
       "      <th>ABSA Excess</th>\n",
       "      <th>Woolworths Excess</th>\n",
       "    </tr>\n",
       "  </thead>\n",
       "  <tbody>\n",
       "    <tr>\n",
       "      <th>Vodacom Excess</th>\n",
       "      <td>0.000362</td>\n",
       "      <td>-0.000187</td>\n",
       "      <td>0.000024</td>\n",
       "      <td>0.000014</td>\n",
       "      <td>0.000009</td>\n",
       "    </tr>\n",
       "    <tr>\n",
       "      <th>Anglo American Excess</th>\n",
       "      <td>-0.000187</td>\n",
       "      <td>1.826478</td>\n",
       "      <td>0.000831</td>\n",
       "      <td>0.000668</td>\n",
       "      <td>0.000043</td>\n",
       "    </tr>\n",
       "    <tr>\n",
       "      <th>KUMBA Excess</th>\n",
       "      <td>0.000024</td>\n",
       "      <td>0.000831</td>\n",
       "      <td>0.000943</td>\n",
       "      <td>0.000133</td>\n",
       "      <td>0.000016</td>\n",
       "    </tr>\n",
       "    <tr>\n",
       "      <th>ABSA Excess</th>\n",
       "      <td>0.000014</td>\n",
       "      <td>0.000668</td>\n",
       "      <td>0.000133</td>\n",
       "      <td>0.000366</td>\n",
       "      <td>0.000003</td>\n",
       "    </tr>\n",
       "    <tr>\n",
       "      <th>Woolworths Excess</th>\n",
       "      <td>0.000009</td>\n",
       "      <td>0.000043</td>\n",
       "      <td>0.000016</td>\n",
       "      <td>0.000003</td>\n",
       "      <td>0.000183</td>\n",
       "    </tr>\n",
       "  </tbody>\n",
       "</table>\n",
       "</div>"
      ],
      "text/plain": [
       "                       Vodacom Excess  Anglo American Excess  KUMBA Excess  \\\n",
       "Vodacom Excess               0.000362              -0.000187      0.000024   \n",
       "Anglo American Excess       -0.000187               1.826478      0.000831   \n",
       "KUMBA Excess                 0.000024               0.000831      0.000943   \n",
       "ABSA Excess                  0.000014               0.000668      0.000133   \n",
       "Woolworths Excess            0.000009               0.000043      0.000016   \n",
       "\n",
       "                       ABSA Excess  Woolworths Excess  \n",
       "Vodacom Excess            0.000014           0.000009  \n",
       "Anglo American Excess     0.000668           0.000043  \n",
       "KUMBA Excess              0.000133           0.000016  \n",
       "ABSA Excess               0.000366           0.000003  \n",
       "Woolworths Excess         0.000003           0.000183  "
      ]
     },
     "execution_count": 44,
     "metadata": {},
     "output_type": "execute_result"
    }
   ],
   "source": [
    "# The symetrical variance covariance matrix displays the variance of the excess returns on the diagonal, and the covariance between the stocks in all the other positions.\n",
    "variance_covariance_matrix"
   ]
  },
  {
   "cell_type": "code",
   "execution_count": 45,
   "metadata": {},
   "outputs": [],
   "source": [
    "# Function that takes in asset names, and asset weights, in order to calculate the variance of the portfolio\n",
    "def portfolio_variance(asset_names,asset_weights):\n",
    "    asset_weights = np.array(asset_weights)\n",
    "    var_mat = variance_covariance_matrix.loc[asset_names,asset_names].to_numpy()\n",
    "    # Nested matrix multiplicatoin of the (asset weights * variance covariance matrix) and the asset weights\n",
    "    var = np.matmul(np.matmul(asset_weights,var_mat),asset_weights.T)\n",
    "    # Prints the variance for the portfolio\n",
    "    print(f'Variance: {var}')"
   ]
  },
  {
   "cell_type": "code",
   "execution_count": 46,
   "metadata": {},
   "outputs": [
    {
     "name": "stdout",
     "output_type": "stream",
     "text": [
      "Variance: 0.0003462876162892855\n"
     ]
    }
   ],
   "source": [
    "portfolio_variance(asset_names=['ABSA Excess','KUMBA Excess'],asset_weights=[0.6,0.4])"
   ]
  },
  {
   "cell_type": "code",
   "execution_count": 47,
   "metadata": {},
   "outputs": [
    {
     "name": "stdout",
     "output_type": "stream",
     "text": [
      "Variance: 0.00015712833598748152\n"
     ]
    }
   ],
   "source": [
    "portfolio_variance(asset_names=['Vodacom Excess','KUMBA Excess','Woolworths Excess'],asset_weights=[0.3,0.3,0.4])"
   ]
  },
  {
   "cell_type": "code",
   "execution_count": 48,
   "metadata": {},
   "outputs": [
    {
     "name": "stdout",
     "output_type": "stream",
     "text": [
      "Variance: 0.4567868723082937\n"
     ]
    }
   ],
   "source": [
    "portfolio_variance(asset_names=['ABSA Excess','Vodacom Excess','Anglo American Excess'],asset_weights=[0.25,0.25,0.5])"
   ]
  },
  {
   "cell_type": "code",
   "execution_count": 49,
   "metadata": {},
   "outputs": [
    {
     "name": "stdout",
     "output_type": "stream",
     "text": [
      "Variance: 0.04140633865857087\n"
     ]
    }
   ],
   "source": [
    "portfolio_variance(asset_names=['Anglo American Excess','KUMBA Excess','ABSA Excess','Vodacom Excess'],asset_weights=[0.15,0.3,0.35,0.2])"
   ]
  },
  {
   "cell_type": "code",
   "execution_count": 50,
   "metadata": {},
   "outputs": [
    {
     "name": "stdout",
     "output_type": "stream",
     "text": [
      "Variance: 0.1145592003878631\n"
     ]
    }
   ],
   "source": [
    "portfolio_variance(asset_names=variance_covariance_matrix.columns,asset_weights=[0.2,0.25,0.45,0.05,0.05])"
   ]
  },
  {
   "cell_type": "code",
   "execution_count": null,
   "metadata": {},
   "outputs": [],
   "source": []
  }
 ],
 "metadata": {
  "kernelspec": {
   "display_name": "Python 3.8.13 ('base')",
   "language": "python",
   "name": "python3"
  },
  "language_info": {
   "codemirror_mode": {
    "name": "ipython",
    "version": 3
   },
   "file_extension": ".py",
   "mimetype": "text/x-python",
   "name": "python",
   "nbconvert_exporter": "python",
   "pygments_lexer": "ipython3",
   "version": "3.8.13"
  },
  "orig_nbformat": 4,
  "vscode": {
   "interpreter": {
    "hash": "fc56f9a4ecd58dcd1ada9a2448ec5f75d7a1aaa15329482faa6213ab95199a9c"
   }
  }
 },
 "nbformat": 4,
 "nbformat_minor": 2
}
